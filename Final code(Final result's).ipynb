{
 "cells": [
  {
   "cell_type": "markdown",
   "metadata": {},
   "source": [
    "# **Course : Project's in machine learning**"
   ]
  },
  {
   "cell_type": "markdown",
   "metadata": {},
   "source": [
    "## **Unit 4: Final Results**"
   ]
  },
  {
   "cell_type": "markdown",
   "metadata": {},
   "source": [
    "### **Group 9 Team Members:**\n",
    "\n",
    "<div style=\"display: flex; flex-wrap: wrap; gap: 10px;\">\n",
    "    <div style=\"border: 1px solid #ddd; border-radius: 5px; padding: 10px; width: 200px;\">\n",
    "        <h4>Samyukth Lalith Lella Gopal</h4>\n",
    "        <p><h4>ID: 9005574<h4></p>\n",
    "    </div>\n",
    "</div>\n",
    "\n",
    "================================================================================================================================"
   ]
  },
  {
   "cell_type": "markdown",
   "metadata": {},
   "source": [
    "#### **Step-1 : Configuration and Environment Setup**"
   ]
  },
  {
   "cell_type": "code",
   "execution_count": 131,
   "metadata": {},
   "outputs": [
    {
     "name": "stdout",
     "output_type": "stream",
     "text": [
      "Defaulting to user installation because normal site-packages is not writeable\n",
      "Requirement already satisfied: pandas in c:\\users\\lella\\appdata\\local\\packages\\pythonsoftwarefoundation.python.3.12_qbz5n2kfra8p0\\localcache\\local-packages\\python312\\site-packages (2.2.3)\n",
      "Requirement already satisfied: numpy>=1.26.0 in c:\\users\\lella\\appdata\\local\\packages\\pythonsoftwarefoundation.python.3.12_qbz5n2kfra8p0\\localcache\\local-packages\\python312\\site-packages (from pandas) (1.26.4)\n",
      "Requirement already satisfied: python-dateutil>=2.8.2 in c:\\users\\lella\\appdata\\local\\packages\\pythonsoftwarefoundation.python.3.12_qbz5n2kfra8p0\\localcache\\local-packages\\python312\\site-packages (from pandas) (2.9.0.post0)\n",
      "Requirement already satisfied: pytz>=2020.1 in c:\\users\\lella\\appdata\\local\\packages\\pythonsoftwarefoundation.python.3.12_qbz5n2kfra8p0\\localcache\\local-packages\\python312\\site-packages (from pandas) (2024.2)\n",
      "Requirement already satisfied: tzdata>=2022.7 in c:\\users\\lella\\appdata\\local\\packages\\pythonsoftwarefoundation.python.3.12_qbz5n2kfra8p0\\localcache\\local-packages\\python312\\site-packages (from pandas) (2024.2)\n",
      "Requirement already satisfied: six>=1.5 in c:\\users\\lella\\appdata\\local\\packages\\pythonsoftwarefoundation.python.3.12_qbz5n2kfra8p0\\localcache\\local-packages\\python312\\site-packages (from python-dateutil>=2.8.2->pandas) (1.16.0)\n",
      "Note: you may need to restart the kernel to use updated packages.\n"
     ]
    }
   ],
   "source": [
    "pip install pandas"
   ]
  },
  {
   "cell_type": "code",
   "execution_count": 132,
   "metadata": {},
   "outputs": [
    {
     "name": "stdout",
     "output_type": "stream",
     "text": [
      "Defaulting to user installation because normal site-packages is not writeable\n",
      "Requirement already satisfied: numpy in c:\\users\\lella\\appdata\\local\\packages\\pythonsoftwarefoundation.python.3.12_qbz5n2kfra8p0\\localcache\\local-packages\\python312\\site-packages (1.26.4)\n",
      "Note: you may need to restart the kernel to use updated packages.\n"
     ]
    }
   ],
   "source": [
    "pip install numpy"
   ]
  },
  {
   "cell_type": "code",
   "execution_count": 133,
   "metadata": {},
   "outputs": [
    {
     "name": "stdout",
     "output_type": "stream",
     "text": [
      "Defaulting to user installation because normal site-packages is not writeable\n",
      "Requirement already satisfied: matplotlib in c:\\users\\lella\\appdata\\local\\packages\\pythonsoftwarefoundation.python.3.12_qbz5n2kfra8p0\\localcache\\local-packages\\python312\\site-packages (3.9.2)\n",
      "Requirement already satisfied: contourpy>=1.0.1 in c:\\users\\lella\\appdata\\local\\packages\\pythonsoftwarefoundation.python.3.12_qbz5n2kfra8p0\\localcache\\local-packages\\python312\\site-packages (from matplotlib) (1.3.1)\n",
      "Requirement already satisfied: cycler>=0.10 in c:\\users\\lella\\appdata\\local\\packages\\pythonsoftwarefoundation.python.3.12_qbz5n2kfra8p0\\localcache\\local-packages\\python312\\site-packages (from matplotlib) (0.12.1)\n",
      "Requirement already satisfied: fonttools>=4.22.0 in c:\\users\\lella\\appdata\\local\\packages\\pythonsoftwarefoundation.python.3.12_qbz5n2kfra8p0\\localcache\\local-packages\\python312\\site-packages (from matplotlib) (4.55.0)\n",
      "Requirement already satisfied: kiwisolver>=1.3.1 in c:\\users\\lella\\appdata\\local\\packages\\pythonsoftwarefoundation.python.3.12_qbz5n2kfra8p0\\localcache\\local-packages\\python312\\site-packages (from matplotlib) (1.4.7)\n",
      "Requirement already satisfied: numpy>=1.23 in c:\\users\\lella\\appdata\\local\\packages\\pythonsoftwarefoundation.python.3.12_qbz5n2kfra8p0\\localcache\\local-packages\\python312\\site-packages (from matplotlib) (1.26.4)\n",
      "Requirement already satisfied: packaging>=20.0 in c:\\users\\lella\\appdata\\local\\packages\\pythonsoftwarefoundation.python.3.12_qbz5n2kfra8p0\\localcache\\local-packages\\python312\\site-packages (from matplotlib) (24.2)\n",
      "Requirement already satisfied: pillow>=8 in c:\\users\\lella\\appdata\\local\\packages\\pythonsoftwarefoundation.python.3.12_qbz5n2kfra8p0\\localcache\\local-packages\\python312\\site-packages (from matplotlib) (11.0.0)\n",
      "Requirement already satisfied: pyparsing>=2.3.1 in c:\\users\\lella\\appdata\\local\\packages\\pythonsoftwarefoundation.python.3.12_qbz5n2kfra8p0\\localcache\\local-packages\\python312\\site-packages (from matplotlib) (3.2.0)\n",
      "Requirement already satisfied: python-dateutil>=2.7 in c:\\users\\lella\\appdata\\local\\packages\\pythonsoftwarefoundation.python.3.12_qbz5n2kfra8p0\\localcache\\local-packages\\python312\\site-packages (from matplotlib) (2.9.0.post0)\n",
      "Requirement already satisfied: six>=1.5 in c:\\users\\lella\\appdata\\local\\packages\\pythonsoftwarefoundation.python.3.12_qbz5n2kfra8p0\\localcache\\local-packages\\python312\\site-packages (from python-dateutil>=2.7->matplotlib) (1.16.0)\n",
      "Note: you may need to restart the kernel to use updated packages.\n"
     ]
    }
   ],
   "source": [
    "pip install matplotlib"
   ]
  },
  {
   "cell_type": "code",
   "execution_count": 134,
   "metadata": {},
   "outputs": [
    {
     "name": "stdout",
     "output_type": "stream",
     "text": [
      "Defaulting to user installation because normal site-packages is not writeable\n",
      "Requirement already satisfied: seaborn in c:\\users\\lella\\appdata\\local\\packages\\pythonsoftwarefoundation.python.3.12_qbz5n2kfra8p0\\localcache\\local-packages\\python312\\site-packages (0.13.2)\n",
      "Requirement already satisfied: numpy!=1.24.0,>=1.20 in c:\\users\\lella\\appdata\\local\\packages\\pythonsoftwarefoundation.python.3.12_qbz5n2kfra8p0\\localcache\\local-packages\\python312\\site-packages (from seaborn) (1.26.4)\n",
      "Requirement already satisfied: pandas>=1.2 in c:\\users\\lella\\appdata\\local\\packages\\pythonsoftwarefoundation.python.3.12_qbz5n2kfra8p0\\localcache\\local-packages\\python312\\site-packages (from seaborn) (2.2.3)\n",
      "Requirement already satisfied: matplotlib!=3.6.1,>=3.4 in c:\\users\\lella\\appdata\\local\\packages\\pythonsoftwarefoundation.python.3.12_qbz5n2kfra8p0\\localcache\\local-packages\\python312\\site-packages (from seaborn) (3.9.2)\n",
      "Requirement already satisfied: contourpy>=1.0.1 in c:\\users\\lella\\appdata\\local\\packages\\pythonsoftwarefoundation.python.3.12_qbz5n2kfra8p0\\localcache\\local-packages\\python312\\site-packages (from matplotlib!=3.6.1,>=3.4->seaborn) (1.3.1)\n",
      "Requirement already satisfied: cycler>=0.10 in c:\\users\\lella\\appdata\\local\\packages\\pythonsoftwarefoundation.python.3.12_qbz5n2kfra8p0\\localcache\\local-packages\\python312\\site-packages (from matplotlib!=3.6.1,>=3.4->seaborn) (0.12.1)\n",
      "Requirement already satisfied: fonttools>=4.22.0 in c:\\users\\lella\\appdata\\local\\packages\\pythonsoftwarefoundation.python.3.12_qbz5n2kfra8p0\\localcache\\local-packages\\python312\\site-packages (from matplotlib!=3.6.1,>=3.4->seaborn) (4.55.0)\n",
      "Requirement already satisfied: kiwisolver>=1.3.1 in c:\\users\\lella\\appdata\\local\\packages\\pythonsoftwarefoundation.python.3.12_qbz5n2kfra8p0\\localcache\\local-packages\\python312\\site-packages (from matplotlib!=3.6.1,>=3.4->seaborn) (1.4.7)\n",
      "Requirement already satisfied: packaging>=20.0 in c:\\users\\lella\\appdata\\local\\packages\\pythonsoftwarefoundation.python.3.12_qbz5n2kfra8p0\\localcache\\local-packages\\python312\\site-packages (from matplotlib!=3.6.1,>=3.4->seaborn) (24.2)\n",
      "Requirement already satisfied: pillow>=8 in c:\\users\\lella\\appdata\\local\\packages\\pythonsoftwarefoundation.python.3.12_qbz5n2kfra8p0\\localcache\\local-packages\\python312\\site-packages (from matplotlib!=3.6.1,>=3.4->seaborn) (11.0.0)\n",
      "Requirement already satisfied: pyparsing>=2.3.1 in c:\\users\\lella\\appdata\\local\\packages\\pythonsoftwarefoundation.python.3.12_qbz5n2kfra8p0\\localcache\\local-packages\\python312\\site-packages (from matplotlib!=3.6.1,>=3.4->seaborn) (3.2.0)\n",
      "Requirement already satisfied: python-dateutil>=2.7 in c:\\users\\lella\\appdata\\local\\packages\\pythonsoftwarefoundation.python.3.12_qbz5n2kfra8p0\\localcache\\local-packages\\python312\\site-packages (from matplotlib!=3.6.1,>=3.4->seaborn) (2.9.0.post0)\n",
      "Requirement already satisfied: pytz>=2020.1 in c:\\users\\lella\\appdata\\local\\packages\\pythonsoftwarefoundation.python.3.12_qbz5n2kfra8p0\\localcache\\local-packages\\python312\\site-packages (from pandas>=1.2->seaborn) (2024.2)\n",
      "Requirement already satisfied: tzdata>=2022.7 in c:\\users\\lella\\appdata\\local\\packages\\pythonsoftwarefoundation.python.3.12_qbz5n2kfra8p0\\localcache\\local-packages\\python312\\site-packages (from pandas>=1.2->seaborn) (2024.2)\n",
      "Requirement already satisfied: six>=1.5 in c:\\users\\lella\\appdata\\local\\packages\\pythonsoftwarefoundation.python.3.12_qbz5n2kfra8p0\\localcache\\local-packages\\python312\\site-packages (from python-dateutil>=2.7->matplotlib!=3.6.1,>=3.4->seaborn) (1.16.0)\n",
      "Note: you may need to restart the kernel to use updated packages.\n"
     ]
    }
   ],
   "source": [
    "pip install seaborn"
   ]
  },
  {
   "cell_type": "code",
   "execution_count": 135,
   "metadata": {},
   "outputs": [
    {
     "name": "stdout",
     "output_type": "stream",
     "text": [
      "Defaulting to user installation because normal site-packages is not writeable\n",
      "Requirement already satisfied: scikit-learn in c:\\users\\lella\\appdata\\local\\packages\\pythonsoftwarefoundation.python.3.12_qbz5n2kfra8p0\\localcache\\local-packages\\python312\\site-packages (1.5.2)\n",
      "Requirement already satisfied: numpy>=1.19.5 in c:\\users\\lella\\appdata\\local\\packages\\pythonsoftwarefoundation.python.3.12_qbz5n2kfra8p0\\localcache\\local-packages\\python312\\site-packages (from scikit-learn) (1.26.4)\n",
      "Requirement already satisfied: scipy>=1.6.0 in c:\\users\\lella\\appdata\\local\\packages\\pythonsoftwarefoundation.python.3.12_qbz5n2kfra8p0\\localcache\\local-packages\\python312\\site-packages (from scikit-learn) (1.13.1)\n",
      "Requirement already satisfied: joblib>=1.2.0 in c:\\users\\lella\\appdata\\local\\packages\\pythonsoftwarefoundation.python.3.12_qbz5n2kfra8p0\\localcache\\local-packages\\python312\\site-packages (from scikit-learn) (1.4.2)\n",
      "Requirement already satisfied: threadpoolctl>=3.1.0 in c:\\users\\lella\\appdata\\local\\packages\\pythonsoftwarefoundation.python.3.12_qbz5n2kfra8p0\\localcache\\local-packages\\python312\\site-packages (from scikit-learn) (3.5.0)\n",
      "Note: you may need to restart the kernel to use updated packages.\n"
     ]
    }
   ],
   "source": [
    "pip install scikit-learn"
   ]
  },
  {
   "cell_type": "code",
   "execution_count": 136,
   "metadata": {},
   "outputs": [
    {
     "name": "stdout",
     "output_type": "stream",
     "text": [
      "Defaulting to user installation because normal site-packages is not writeable\n",
      "Requirement already satisfied: scipy in c:\\users\\lella\\appdata\\local\\packages\\pythonsoftwarefoundation.python.3.12_qbz5n2kfra8p0\\localcache\\local-packages\\python312\\site-packages (1.13.1)\n",
      "Requirement already satisfied: numpy<2.3,>=1.22.4 in c:\\users\\lella\\appdata\\local\\packages\\pythonsoftwarefoundation.python.3.12_qbz5n2kfra8p0\\localcache\\local-packages\\python312\\site-packages (from scipy) (1.26.4)\n",
      "Note: you may need to restart the kernel to use updated packages.\n"
     ]
    }
   ],
   "source": [
    "pip install scipy"
   ]
  },
  {
   "cell_type": "markdown",
   "metadata": {},
   "source": [
    "#### **Step-2 : Import Libraries and Load Dataset**"
   ]
  },
  {
   "cell_type": "markdown",
   "metadata": {},
   "source": [
    "**Import Libraries**"
   ]
  },
  {
   "cell_type": "code",
   "execution_count": 137,
   "metadata": {},
   "outputs": [],
   "source": [
    "# Importing necessary libraries\n",
    "import pandas as pd\n",
    "import numpy as np\n",
    "import matplotlib.pyplot as plt\n",
    "import seaborn as sns\n",
    "from scipy.stats import ttest_ind, mannwhitneyu\n",
    "from sklearn.preprocessing import StandardScaler\n",
    "from sklearn.model_selection import train_test_split"
   ]
  },
  {
   "cell_type": "code",
   "execution_count": 138,
   "metadata": {},
   "outputs": [],
   "source": [
    "# Load dataset\n",
    "df = pd.read_csv('Datasets.csv')"
   ]
  },
  {
   "cell_type": "markdown",
   "metadata": {},
   "source": [
    "#### **Step 3 : Basic Data Exploration**"
   ]
  },
  {
   "cell_type": "markdown",
   "metadata": {},
   "source": [
    "**Dataset Overview: Feature Descriptions**\n",
    "\n",
    "The dataset contains transactional and behavioral features relevant to identifying fraud, including potential indicators of synthetic identity theft.\n",
    "\n",
    "| Column Name           | Description |\n",
    "|------------------------|-------------|\n",
    "| `type`                | Type of transaction (e.g., TRANSFER, PAYMENT, CASH_OUT). Useful for behavioral analysis. |\n",
    "| `branch`              | The region or country where the transaction occurred (e.g., India, Australia). |\n",
    "| `amount`              | Transaction amount in local currency. Higher/lower amounts may indicate abnormal activity. |\n",
    "| `oldbalanceOrg`       | Balance of the originator before the transaction. |\n",
    "| `newbalanceOrig`      | Balance of the originator after the transaction. |\n",
    "| `nameOrig`            | Unique identifier of the sender. Could be helpful in analyzing account usage patterns. |\n",
    "| `nameDest`            | Unique identifier of the receiver. May reveal repeated suspicious receivers. |\n",
    "| `unusuallogin`        | Score or flag representing abnormal login behavior (e.g., odd timing or IP). Strong feature for synthetic ID behavior. |\n",
    "| `Acct type`           | Indicates account type: Current or Savings. |\n",
    "| `Date of transaction` | The calendar date on which the transaction occurred. |\n",
    "| `Time of day`         | Time window when the transaction was made (e.g., Morning, Night). May be useful in fraud timing analysis. |\n",
    "| `isFraud`             | **Target variable**. `1` = fraudulent transaction, `0` = legitimate transaction. |\n",
    "| `isFlaggedFraud`      | A system-flagged alert (`1` = flagged, `0` = not flagged). Could be used to compare system accuracy vs. actual fraud. |\n",
    "\n"
   ]
  },
  {
   "cell_type": "code",
   "execution_count": 139,
   "metadata": {},
   "outputs": [
    {
     "data": {
      "text/html": [
       "<div>\n",
       "<style scoped>\n",
       "    .dataframe tbody tr th:only-of-type {\n",
       "        vertical-align: middle;\n",
       "    }\n",
       "\n",
       "    .dataframe tbody tr th {\n",
       "        vertical-align: top;\n",
       "    }\n",
       "\n",
       "    .dataframe thead th {\n",
       "        text-align: right;\n",
       "    }\n",
       "</style>\n",
       "<table border=\"1\" class=\"dataframe\">\n",
       "  <thead>\n",
       "    <tr style=\"text-align: right;\">\n",
       "      <th></th>\n",
       "      <th>Unnamed: 0</th>\n",
       "      <th>step</th>\n",
       "      <th>type</th>\n",
       "      <th>branch</th>\n",
       "      <th>amount</th>\n",
       "      <th>nameOrig</th>\n",
       "      <th>oldbalanceOrg</th>\n",
       "      <th>newbalanceOrig</th>\n",
       "      <th>nameDest</th>\n",
       "      <th>oldbalanceDest</th>\n",
       "      <th>newbalanceDest</th>\n",
       "      <th>unusuallogin</th>\n",
       "      <th>isFlaggedFraud</th>\n",
       "      <th>Acct type</th>\n",
       "      <th>Date of transaction</th>\n",
       "      <th>Time of day</th>\n",
       "      <th>isFraud</th>\n",
       "    </tr>\n",
       "  </thead>\n",
       "  <tbody>\n",
       "    <tr>\n",
       "      <th>0</th>\n",
       "      <td>0</td>\n",
       "      <td>1</td>\n",
       "      <td>PAYMENT</td>\n",
       "      <td>Indonesia</td>\n",
       "      <td>9839.64</td>\n",
       "      <td>C1231006815</td>\n",
       "      <td>170136.0</td>\n",
       "      <td>160296.36</td>\n",
       "      <td>M1979787155</td>\n",
       "      <td>0.0</td>\n",
       "      <td>0.0</td>\n",
       "      <td>9</td>\n",
       "      <td>0</td>\n",
       "      <td>Current</td>\n",
       "      <td>3/1/2018</td>\n",
       "      <td>Morning</td>\n",
       "      <td>0.0</td>\n",
       "    </tr>\n",
       "    <tr>\n",
       "      <th>1</th>\n",
       "      <td>1</td>\n",
       "      <td>1</td>\n",
       "      <td>PAYMENT</td>\n",
       "      <td>India</td>\n",
       "      <td>1864.28</td>\n",
       "      <td>C1666544295</td>\n",
       "      <td>21249.0</td>\n",
       "      <td>19384.72</td>\n",
       "      <td>M2044282225</td>\n",
       "      <td>0.0</td>\n",
       "      <td>0.0</td>\n",
       "      <td>10</td>\n",
       "      <td>0</td>\n",
       "      <td>Savings</td>\n",
       "      <td>5/1/2018</td>\n",
       "      <td>Morning</td>\n",
       "      <td>0.0</td>\n",
       "    </tr>\n",
       "    <tr>\n",
       "      <th>2</th>\n",
       "      <td>2</td>\n",
       "      <td>1</td>\n",
       "      <td>TRANSFER</td>\n",
       "      <td>India</td>\n",
       "      <td>181.00</td>\n",
       "      <td>C1305486145</td>\n",
       "      <td>181.0</td>\n",
       "      <td>0.00</td>\n",
       "      <td>C553264065</td>\n",
       "      <td>0.0</td>\n",
       "      <td>0.0</td>\n",
       "      <td>2</td>\n",
       "      <td>0</td>\n",
       "      <td>Current</td>\n",
       "      <td>7/1/2018</td>\n",
       "      <td>Morning</td>\n",
       "      <td>1.0</td>\n",
       "    </tr>\n",
       "    <tr>\n",
       "      <th>3</th>\n",
       "      <td>3</td>\n",
       "      <td>1</td>\n",
       "      <td>CASH_OUT</td>\n",
       "      <td>Australia</td>\n",
       "      <td>181.00</td>\n",
       "      <td>C840083671</td>\n",
       "      <td>181.0</td>\n",
       "      <td>0.00</td>\n",
       "      <td>C38997010</td>\n",
       "      <td>21182.0</td>\n",
       "      <td>0.0</td>\n",
       "      <td>1</td>\n",
       "      <td>0</td>\n",
       "      <td>Current</td>\n",
       "      <td>6/1/2018</td>\n",
       "      <td>Afternoon</td>\n",
       "      <td>1.0</td>\n",
       "    </tr>\n",
       "    <tr>\n",
       "      <th>4</th>\n",
       "      <td>4</td>\n",
       "      <td>1</td>\n",
       "      <td>PAYMENT</td>\n",
       "      <td>Australia</td>\n",
       "      <td>11668.14</td>\n",
       "      <td>C2048537720</td>\n",
       "      <td>41554.0</td>\n",
       "      <td>29885.86</td>\n",
       "      <td>M1230701703</td>\n",
       "      <td>0.0</td>\n",
       "      <td>0.0</td>\n",
       "      <td>17</td>\n",
       "      <td>0</td>\n",
       "      <td>Current</td>\n",
       "      <td>6/1/2018</td>\n",
       "      <td>Morning</td>\n",
       "      <td>0.0</td>\n",
       "    </tr>\n",
       "  </tbody>\n",
       "</table>\n",
       "</div>"
      ],
      "text/plain": [
       "   Unnamed: 0  step      type     branch    amount     nameOrig  \\\n",
       "0           0     1   PAYMENT  Indonesia   9839.64  C1231006815   \n",
       "1           1     1   PAYMENT      India   1864.28  C1666544295   \n",
       "2           2     1  TRANSFER      India    181.00  C1305486145   \n",
       "3           3     1  CASH_OUT  Australia    181.00   C840083671   \n",
       "4           4     1   PAYMENT  Australia  11668.14  C2048537720   \n",
       "\n",
       "   oldbalanceOrg  newbalanceOrig     nameDest  oldbalanceDest  newbalanceDest  \\\n",
       "0       170136.0       160296.36  M1979787155             0.0             0.0   \n",
       "1        21249.0        19384.72  M2044282225             0.0             0.0   \n",
       "2          181.0            0.00   C553264065             0.0             0.0   \n",
       "3          181.0            0.00    C38997010         21182.0             0.0   \n",
       "4        41554.0        29885.86  M1230701703             0.0             0.0   \n",
       "\n",
       "   unusuallogin  isFlaggedFraud Acct type Date of transaction Time of day  \\\n",
       "0             9               0   Current            3/1/2018     Morning   \n",
       "1            10               0   Savings            5/1/2018     Morning   \n",
       "2             2               0   Current            7/1/2018     Morning   \n",
       "3             1               0   Current            6/1/2018   Afternoon   \n",
       "4            17               0   Current            6/1/2018     Morning   \n",
       "\n",
       "   isFraud  \n",
       "0      0.0  \n",
       "1      0.0  \n",
       "2      1.0  \n",
       "3      1.0  \n",
       "4      0.0  "
      ]
     },
     "execution_count": 139,
     "metadata": {},
     "output_type": "execute_result"
    }
   ],
   "source": [
    "df.head()"
   ]
  },
  {
   "cell_type": "code",
   "execution_count": 140,
   "metadata": {},
   "outputs": [
    {
     "data": {
      "text/html": [
       "<div>\n",
       "<style scoped>\n",
       "    .dataframe tbody tr th:only-of-type {\n",
       "        vertical-align: middle;\n",
       "    }\n",
       "\n",
       "    .dataframe tbody tr th {\n",
       "        vertical-align: top;\n",
       "    }\n",
       "\n",
       "    .dataframe thead th {\n",
       "        text-align: right;\n",
       "    }\n",
       "</style>\n",
       "<table border=\"1\" class=\"dataframe\">\n",
       "  <thead>\n",
       "    <tr style=\"text-align: right;\">\n",
       "      <th></th>\n",
       "      <th>Unnamed: 0</th>\n",
       "      <th>step</th>\n",
       "      <th>type</th>\n",
       "      <th>branch</th>\n",
       "      <th>amount</th>\n",
       "      <th>nameOrig</th>\n",
       "      <th>oldbalanceOrg</th>\n",
       "      <th>newbalanceOrig</th>\n",
       "      <th>nameDest</th>\n",
       "      <th>oldbalanceDest</th>\n",
       "      <th>newbalanceDest</th>\n",
       "      <th>unusuallogin</th>\n",
       "      <th>isFlaggedFraud</th>\n",
       "      <th>Acct type</th>\n",
       "      <th>Date of transaction</th>\n",
       "      <th>Time of day</th>\n",
       "      <th>isFraud</th>\n",
       "    </tr>\n",
       "  </thead>\n",
       "  <tbody>\n",
       "    <tr>\n",
       "      <th>10122</th>\n",
       "      <td>10122</td>\n",
       "      <td>7</td>\n",
       "      <td>PAYMENT</td>\n",
       "      <td>Cuba</td>\n",
       "      <td>337.50</td>\n",
       "      <td>C1494306005</td>\n",
       "      <td>33107.0</td>\n",
       "      <td>32769.50</td>\n",
       "      <td>M1424027000</td>\n",
       "      <td>0.0</td>\n",
       "      <td>0.0</td>\n",
       "      <td>7</td>\n",
       "      <td>0</td>\n",
       "      <td>Current</td>\n",
       "      <td>3/1/2018</td>\n",
       "      <td>Afternoon</td>\n",
       "      <td>0.0</td>\n",
       "    </tr>\n",
       "    <tr>\n",
       "      <th>10123</th>\n",
       "      <td>10123</td>\n",
       "      <td>7</td>\n",
       "      <td>PAYMENT</td>\n",
       "      <td>Mexico</td>\n",
       "      <td>5003.57</td>\n",
       "      <td>C1633890169</td>\n",
       "      <td>32769.5</td>\n",
       "      <td>27765.93</td>\n",
       "      <td>M1854745805</td>\n",
       "      <td>0.0</td>\n",
       "      <td>0.0</td>\n",
       "      <td>11</td>\n",
       "      <td>0</td>\n",
       "      <td>Savings</td>\n",
       "      <td>5/1/2018</td>\n",
       "      <td>Morning</td>\n",
       "      <td>0.0</td>\n",
       "    </tr>\n",
       "    <tr>\n",
       "      <th>10124</th>\n",
       "      <td>10124</td>\n",
       "      <td>7</td>\n",
       "      <td>PAYMENT</td>\n",
       "      <td>Panama</td>\n",
       "      <td>10424.89</td>\n",
       "      <td>C1026138669</td>\n",
       "      <td>50780.0</td>\n",
       "      <td>40355.11</td>\n",
       "      <td>M1852900317</td>\n",
       "      <td>0.0</td>\n",
       "      <td>0.0</td>\n",
       "      <td>6</td>\n",
       "      <td>0</td>\n",
       "      <td>Savings</td>\n",
       "      <td>7/1/2018</td>\n",
       "      <td>Night</td>\n",
       "      <td>0.0</td>\n",
       "    </tr>\n",
       "    <tr>\n",
       "      <th>10125</th>\n",
       "      <td>10125</td>\n",
       "      <td>7</td>\n",
       "      <td>PAYMENT</td>\n",
       "      <td>Mexico</td>\n",
       "      <td>2823.59</td>\n",
       "      <td>C378659213</td>\n",
       "      <td>986.0</td>\n",
       "      <td>0.00</td>\n",
       "      <td>M301812950</td>\n",
       "      <td>0.0</td>\n",
       "      <td>0.0</td>\n",
       "      <td>12</td>\n",
       "      <td>0</td>\n",
       "      <td>Savings</td>\n",
       "      <td>6/1/2018</td>\n",
       "      <td>Night</td>\n",
       "      <td>0.0</td>\n",
       "    </tr>\n",
       "    <tr>\n",
       "      <th>10126</th>\n",
       "      <td>10126</td>\n",
       "      <td>7</td>\n",
       "      <td>PAYMENT</td>\n",
       "      <td>Cuba</td>\n",
       "      <td>8126.71</td>\n",
       "      <td>C1639296014</td>\n",
       "      <td>6423.0</td>\n",
       "      <td>0.00</td>\n",
       "      <td>M129774606</td>\n",
       "      <td>0.0</td>\n",
       "      <td>0.0</td>\n",
       "      <td>11</td>\n",
       "      <td>0</td>\n",
       "      <td>Current</td>\n",
       "      <td>2/1/2018</td>\n",
       "      <td>Afternoon</td>\n",
       "      <td>0.0</td>\n",
       "    </tr>\n",
       "  </tbody>\n",
       "</table>\n",
       "</div>"
      ],
      "text/plain": [
       "       Unnamed: 0  step     type  branch    amount     nameOrig  \\\n",
       "10122       10122     7  PAYMENT    Cuba    337.50  C1494306005   \n",
       "10123       10123     7  PAYMENT  Mexico   5003.57  C1633890169   \n",
       "10124       10124     7  PAYMENT  Panama  10424.89  C1026138669   \n",
       "10125       10125     7  PAYMENT  Mexico   2823.59   C378659213   \n",
       "10126       10126     7  PAYMENT    Cuba   8126.71  C1639296014   \n",
       "\n",
       "       oldbalanceOrg  newbalanceOrig     nameDest  oldbalanceDest  \\\n",
       "10122        33107.0        32769.50  M1424027000             0.0   \n",
       "10123        32769.5        27765.93  M1854745805             0.0   \n",
       "10124        50780.0        40355.11  M1852900317             0.0   \n",
       "10125          986.0            0.00   M301812950             0.0   \n",
       "10126         6423.0            0.00   M129774606             0.0   \n",
       "\n",
       "       newbalanceDest  unusuallogin  isFlaggedFraud Acct type  \\\n",
       "10122             0.0             7               0   Current   \n",
       "10123             0.0            11               0   Savings   \n",
       "10124             0.0             6               0   Savings   \n",
       "10125             0.0            12               0   Savings   \n",
       "10126             0.0            11               0   Current   \n",
       "\n",
       "      Date of transaction Time of day  isFraud  \n",
       "10122            3/1/2018   Afternoon      0.0  \n",
       "10123            5/1/2018     Morning      0.0  \n",
       "10124            7/1/2018       Night      0.0  \n",
       "10125            6/1/2018       Night      0.0  \n",
       "10126            2/1/2018   Afternoon      0.0  "
      ]
     },
     "execution_count": 140,
     "metadata": {},
     "output_type": "execute_result"
    }
   ],
   "source": [
    "df.tail()"
   ]
  },
  {
   "cell_type": "markdown",
   "metadata": {},
   "source": [
    "**Dataset shape**"
   ]
  },
  {
   "cell_type": "code",
   "execution_count": 141,
   "metadata": {},
   "outputs": [
    {
     "name": "stdout",
     "output_type": "stream",
     "text": [
      "\n",
      "Dataset Shape: 10127 rows × 17 columns\n"
     ]
    }
   ],
   "source": [
    "print(f\"\\nDataset Shape: {df.shape[0]} rows × {df.shape[1]} columns\")"
   ]
  },
  {
   "cell_type": "markdown",
   "metadata": {},
   "source": [
    "**Check for missing values**"
   ]
  },
  {
   "cell_type": "code",
   "execution_count": 142,
   "metadata": {},
   "outputs": [
    {
     "name": "stdout",
     "output_type": "stream",
     "text": [
      "\n",
      "Missing Values:\n",
      "Unnamed: 0              0\n",
      "step                    0\n",
      "type                    4\n",
      "branch                  0\n",
      "amount                  2\n",
      "nameOrig                6\n",
      "oldbalanceOrg           2\n",
      "newbalanceOrig          0\n",
      "nameDest                6\n",
      "oldbalanceDest          1\n",
      "newbalanceDest          2\n",
      "unusuallogin            0\n",
      "isFlaggedFraud          0\n",
      "Acct type              10\n",
      "Date of transaction     7\n",
      "Time of day             2\n",
      "isFraud                 2\n",
      "dtype: int64\n"
     ]
    }
   ],
   "source": [
    "print(\"\\nMissing Values:\")\n",
    "print(df.isnull().sum())"
   ]
  },
  {
   "cell_type": "markdown",
   "metadata": {},
   "source": [
    "**data types**"
   ]
  },
  {
   "cell_type": "code",
   "execution_count": 143,
   "metadata": {},
   "outputs": [
    {
     "name": "stdout",
     "output_type": "stream",
     "text": [
      "\n",
      "Data Types:\n",
      "Unnamed: 0               int64\n",
      "step                     int64\n",
      "type                    object\n",
      "branch                  object\n",
      "amount                 float64\n",
      "nameOrig                object\n",
      "oldbalanceOrg          float64\n",
      "newbalanceOrig         float64\n",
      "nameDest                object\n",
      "oldbalanceDest         float64\n",
      "newbalanceDest         float64\n",
      "unusuallogin             int64\n",
      "isFlaggedFraud           int64\n",
      "Acct type               object\n",
      "Date of transaction     object\n",
      "Time of day             object\n",
      "isFraud                float64\n",
      "dtype: object\n"
     ]
    }
   ],
   "source": [
    "print(\"\\nData Types:\")\n",
    "print(df.dtypes)"
   ]
  },
  {
   "cell_type": "markdown",
   "metadata": {},
   "source": [
    "**Unique values per column**"
   ]
  },
  {
   "cell_type": "code",
   "execution_count": 144,
   "metadata": {},
   "outputs": [
    {
     "name": "stdout",
     "output_type": "stream",
     "text": [
      "\n",
      "Unique Value Counts (Top 5 Columns):\n",
      "Unnamed: 0: 10127 unique values\n",
      "step: 7 unique values\n",
      "type: 5 unique values\n",
      "branch: 135 unique values\n",
      "amount: 10079 unique values\n"
     ]
    }
   ],
   "source": [
    "\n",
    "print(\"\\nUnique Value Counts (Top 5 Columns):\")\n",
    "for col in df.columns[:5]:\n",
    "    print(f\"{col}: {df[col].nunique()} unique values\")"
   ]
  },
  {
   "cell_type": "markdown",
   "metadata": {},
   "source": [
    "**Basic statistics for numerical columns**"
   ]
  },
  {
   "cell_type": "code",
   "execution_count": 145,
   "metadata": {},
   "outputs": [
    {
     "name": "stdout",
     "output_type": "stream",
     "text": [
      "\n",
      "Descriptive Statistics:\n"
     ]
    },
    {
     "data": {
      "text/html": [
       "<div>\n",
       "<style scoped>\n",
       "    .dataframe tbody tr th:only-of-type {\n",
       "        vertical-align: middle;\n",
       "    }\n",
       "\n",
       "    .dataframe tbody tr th {\n",
       "        vertical-align: top;\n",
       "    }\n",
       "\n",
       "    .dataframe thead th {\n",
       "        text-align: right;\n",
       "    }\n",
       "</style>\n",
       "<table border=\"1\" class=\"dataframe\">\n",
       "  <thead>\n",
       "    <tr style=\"text-align: right;\">\n",
       "      <th></th>\n",
       "      <th>Unnamed: 0</th>\n",
       "      <th>step</th>\n",
       "      <th>amount</th>\n",
       "      <th>oldbalanceOrg</th>\n",
       "      <th>newbalanceOrig</th>\n",
       "      <th>oldbalanceDest</th>\n",
       "      <th>newbalanceDest</th>\n",
       "      <th>unusuallogin</th>\n",
       "      <th>isFlaggedFraud</th>\n",
       "      <th>isFraud</th>\n",
       "    </tr>\n",
       "  </thead>\n",
       "  <tbody>\n",
       "    <tr>\n",
       "      <th>count</th>\n",
       "      <td>10127.000000</td>\n",
       "      <td>10127.000000</td>\n",
       "      <td>1.012500e+04</td>\n",
       "      <td>1.012500e+04</td>\n",
       "      <td>1.012700e+04</td>\n",
       "      <td>1.012600e+04</td>\n",
       "      <td>1.012500e+04</td>\n",
       "      <td>10127.000000</td>\n",
       "      <td>10127.0</td>\n",
       "      <td>10125.000000</td>\n",
       "    </tr>\n",
       "    <tr>\n",
       "      <th>mean</th>\n",
       "      <td>5063.000000</td>\n",
       "      <td>4.214279</td>\n",
       "      <td>1.048869e+05</td>\n",
       "      <td>8.836965e+05</td>\n",
       "      <td>9.044703e+05</td>\n",
       "      <td>9.335393e+05</td>\n",
       "      <td>1.109315e+06</td>\n",
       "      <td>10.513183</td>\n",
       "      <td>0.0</td>\n",
       "      <td>0.006716</td>\n",
       "    </tr>\n",
       "    <tr>\n",
       "      <th>std</th>\n",
       "      <td>2923.557422</td>\n",
       "      <td>2.484139</td>\n",
       "      <td>2.706369e+05</td>\n",
       "      <td>2.124554e+06</td>\n",
       "      <td>2.169946e+06</td>\n",
       "      <td>2.677976e+06</td>\n",
       "      <td>3.048644e+06</td>\n",
       "      <td>5.809233</td>\n",
       "      <td>0.0</td>\n",
       "      <td>0.081680</td>\n",
       "    </tr>\n",
       "    <tr>\n",
       "      <th>min</th>\n",
       "      <td>0.000000</td>\n",
       "      <td>1.000000</td>\n",
       "      <td>2.390000e+00</td>\n",
       "      <td>0.000000e+00</td>\n",
       "      <td>0.000000e+00</td>\n",
       "      <td>0.000000e+00</td>\n",
       "      <td>0.000000e+00</td>\n",
       "      <td>0.000000</td>\n",
       "      <td>0.0</td>\n",
       "      <td>0.000000</td>\n",
       "    </tr>\n",
       "    <tr>\n",
       "      <th>25%</th>\n",
       "      <td>2531.500000</td>\n",
       "      <td>1.000000</td>\n",
       "      <td>4.397380e+03</td>\n",
       "      <td>1.290000e+02</td>\n",
       "      <td>0.000000e+00</td>\n",
       "      <td>0.000000e+00</td>\n",
       "      <td>0.000000e+00</td>\n",
       "      <td>6.000000</td>\n",
       "      <td>0.0</td>\n",
       "      <td>0.000000</td>\n",
       "    </tr>\n",
       "    <tr>\n",
       "      <th>50%</th>\n",
       "      <td>5063.000000</td>\n",
       "      <td>5.000000</td>\n",
       "      <td>1.279831e+04</td>\n",
       "      <td>2.136300e+04</td>\n",
       "      <td>1.021224e+04</td>\n",
       "      <td>0.000000e+00</td>\n",
       "      <td>0.000000e+00</td>\n",
       "      <td>10.000000</td>\n",
       "      <td>0.0</td>\n",
       "      <td>0.000000</td>\n",
       "    </tr>\n",
       "    <tr>\n",
       "      <th>75%</th>\n",
       "      <td>7594.500000</td>\n",
       "      <td>7.000000</td>\n",
       "      <td>1.143818e+05</td>\n",
       "      <td>1.724320e+05</td>\n",
       "      <td>1.707240e+05</td>\n",
       "      <td>2.819345e+05</td>\n",
       "      <td>2.523925e+05</td>\n",
       "      <td>16.000000</td>\n",
       "      <td>0.0</td>\n",
       "      <td>0.000000</td>\n",
       "    </tr>\n",
       "    <tr>\n",
       "      <th>max</th>\n",
       "      <td>10126.000000</td>\n",
       "      <td>7.000000</td>\n",
       "      <td>1.000000e+07</td>\n",
       "      <td>1.290000e+07</td>\n",
       "      <td>1.300000e+07</td>\n",
       "      <td>1.950000e+07</td>\n",
       "      <td>2.260000e+07</td>\n",
       "      <td>20.000000</td>\n",
       "      <td>0.0</td>\n",
       "      <td>1.000000</td>\n",
       "    </tr>\n",
       "  </tbody>\n",
       "</table>\n",
       "</div>"
      ],
      "text/plain": [
       "         Unnamed: 0          step        amount  oldbalanceOrg  \\\n",
       "count  10127.000000  10127.000000  1.012500e+04   1.012500e+04   \n",
       "mean    5063.000000      4.214279  1.048869e+05   8.836965e+05   \n",
       "std     2923.557422      2.484139  2.706369e+05   2.124554e+06   \n",
       "min        0.000000      1.000000  2.390000e+00   0.000000e+00   \n",
       "25%     2531.500000      1.000000  4.397380e+03   1.290000e+02   \n",
       "50%     5063.000000      5.000000  1.279831e+04   2.136300e+04   \n",
       "75%     7594.500000      7.000000  1.143818e+05   1.724320e+05   \n",
       "max    10126.000000      7.000000  1.000000e+07   1.290000e+07   \n",
       "\n",
       "       newbalanceOrig  oldbalanceDest  newbalanceDest  unusuallogin  \\\n",
       "count    1.012700e+04    1.012600e+04    1.012500e+04  10127.000000   \n",
       "mean     9.044703e+05    9.335393e+05    1.109315e+06     10.513183   \n",
       "std      2.169946e+06    2.677976e+06    3.048644e+06      5.809233   \n",
       "min      0.000000e+00    0.000000e+00    0.000000e+00      0.000000   \n",
       "25%      0.000000e+00    0.000000e+00    0.000000e+00      6.000000   \n",
       "50%      1.021224e+04    0.000000e+00    0.000000e+00     10.000000   \n",
       "75%      1.707240e+05    2.819345e+05    2.523925e+05     16.000000   \n",
       "max      1.300000e+07    1.950000e+07    2.260000e+07     20.000000   \n",
       "\n",
       "       isFlaggedFraud       isFraud  \n",
       "count         10127.0  10125.000000  \n",
       "mean              0.0      0.006716  \n",
       "std               0.0      0.081680  \n",
       "min               0.0      0.000000  \n",
       "25%               0.0      0.000000  \n",
       "50%               0.0      0.000000  \n",
       "75%               0.0      0.000000  \n",
       "max               0.0      1.000000  "
      ]
     },
     "metadata": {},
     "output_type": "display_data"
    }
   ],
   "source": [
    "print(\"\\nDescriptive Statistics:\")\n",
    "display(df.describe())"
   ]
  },
  {
   "cell_type": "markdown",
   "metadata": {},
   "source": [
    "#### **Step 4 : Data Preprocessing**"
   ]
  },
  {
   "cell_type": "markdown",
   "metadata": {},
   "source": [
    "**Convert 'Date of transaction' to datetime**"
   ]
  },
  {
   "cell_type": "code",
   "execution_count": 146,
   "metadata": {},
   "outputs": [
    {
     "name": "stdout",
     "output_type": "stream",
     "text": [
      "Date conversion completed.\n",
      "0   2018-03-01\n",
      "1   2018-05-01\n",
      "2   2018-07-01\n",
      "3   2018-06-01\n",
      "4   2018-06-01\n",
      "Name: Date of transaction, dtype: datetime64[ns]\n"
     ]
    }
   ],
   "source": [
    "df['Date of transaction'] = pd.to_datetime(df['Date of transaction'], errors='coerce')\n",
    "\n",
    "# Check if conversion succeeded\n",
    "print(\"Date conversion completed.\")\n",
    "print(df['Date of transaction'].head())"
   ]
  },
  {
   "cell_type": "markdown",
   "metadata": {},
   "source": [
    "**Handle Missing Values**"
   ]
  },
  {
   "cell_type": "code",
   "execution_count": 147,
   "metadata": {},
   "outputs": [
    {
     "name": "stdout",
     "output_type": "stream",
     "text": [
      "Missing Values Before Cleaning:\n",
      "Unnamed: 0                0\n",
      "step                      0\n",
      "type                      4\n",
      "branch                    0\n",
      "amount                    2\n",
      "nameOrig                  6\n",
      "oldbalanceOrg             2\n",
      "newbalanceOrig            0\n",
      "nameDest                  6\n",
      "oldbalanceDest            1\n",
      "newbalanceDest            2\n",
      "unusuallogin              0\n",
      "isFlaggedFraud            0\n",
      "Acct type                10\n",
      "Date of transaction    2898\n",
      "Time of day               2\n",
      "isFraud                   2\n",
      "dtype: int64\n",
      "\n",
      "Rows after dropping missing values: 7209 (from 10127)\n"
     ]
    }
   ],
   "source": [
    "# Check for missing values\n",
    "print(\"Missing Values Before Cleaning:\")\n",
    "print(df.isnull().sum())\n",
    "\n",
    "# Drop rows with missing values (you can also impute if needed)\n",
    "df_cleaned = df.dropna()\n",
    "\n",
    "print(f\"\\nRows after dropping missing values: {df_cleaned.shape[0]} (from {df.shape[0]})\")"
   ]
  },
  {
   "cell_type": "markdown",
   "metadata": {},
   "source": [
    "**Removing Irrelevant Columns**"
   ]
  },
  {
   "cell_type": "code",
   "execution_count": 148,
   "metadata": {},
   "outputs": [
    {
     "name": "stdout",
     "output_type": "stream",
     "text": [
      "\n",
      "Dropped columns: ['nameOrig', 'nameDest', 'Date of transaction']\n",
      "Dataset shape after dropping: (7209, 14)\n"
     ]
    }
   ],
   "source": [
    "# Drop columns that won't help in modeling (like IDs or duplicates)\n",
    "columns_to_drop = ['nameOrig', 'nameDest', 'Date of transaction']\n",
    "\n",
    "df_cleaned = df_cleaned.drop(columns=columns_to_drop)\n",
    "\n",
    "print(f\"\\nDropped columns: {columns_to_drop}\")\n",
    "print(f\"Dataset shape after dropping: {df_cleaned.shape}\")"
   ]
  },
  {
   "cell_type": "markdown",
   "metadata": {},
   "source": [
    "**Encoding Categorical Variables**"
   ]
  },
  {
   "cell_type": "code",
   "execution_count": 162,
   "metadata": {},
   "outputs": [
    {
     "name": "stdout",
     "output_type": "stream",
     "text": [
      "\n",
      "One-hot encoded categorical columns: ['type', 'branch', 'Acct type', 'Time of day']\n",
      "New dataset shape: (7209, 148)\n"
     ]
    }
   ],
   "source": [
    "# Encode categorical columns using one-hot encoding or label encoding\n",
    "categorical_cols = ['type', 'branch', 'Acct type', 'Time of day']\n",
    "df_encoded = pd.get_dummies(df_cleaned, columns=categorical_cols, drop_first=True)\n",
    "\n",
    "print(f\"\\nOne-hot encoded categorical columns: {categorical_cols}\")\n",
    "print(f\"New dataset shape: {df_encoded.shape}\")"
   ]
  },
  {
   "cell_type": "markdown",
   "metadata": {},
   "source": [
    "**Preview the cleaned datset**"
   ]
  },
  {
   "cell_type": "code",
   "execution_count": 150,
   "metadata": {},
   "outputs": [
    {
     "name": "stdout",
     "output_type": "stream",
     "text": [
      "Final Cleaned & Preprocessed Dataset Preview:\n"
     ]
    },
    {
     "data": {
      "text/html": [
       "<div>\n",
       "<style scoped>\n",
       "    .dataframe tbody tr th:only-of-type {\n",
       "        vertical-align: middle;\n",
       "    }\n",
       "\n",
       "    .dataframe tbody tr th {\n",
       "        vertical-align: top;\n",
       "    }\n",
       "\n",
       "    .dataframe thead th {\n",
       "        text-align: right;\n",
       "    }\n",
       "</style>\n",
       "<table border=\"1\" class=\"dataframe\">\n",
       "  <thead>\n",
       "    <tr style=\"text-align: right;\">\n",
       "      <th></th>\n",
       "      <th>Unnamed: 0</th>\n",
       "      <th>step</th>\n",
       "      <th>amount</th>\n",
       "      <th>oldbalanceOrg</th>\n",
       "      <th>newbalanceOrig</th>\n",
       "      <th>oldbalanceDest</th>\n",
       "      <th>newbalanceDest</th>\n",
       "      <th>unusuallogin</th>\n",
       "      <th>isFlaggedFraud</th>\n",
       "      <th>isFraud</th>\n",
       "      <th>...</th>\n",
       "      <th>branch_Uzbekistan</th>\n",
       "      <th>branch_Venezuela</th>\n",
       "      <th>branch_Vietnam</th>\n",
       "      <th>branch_Yemen</th>\n",
       "      <th>branch_Yibuti</th>\n",
       "      <th>branch_Zambia</th>\n",
       "      <th>branch_Zimbabue</th>\n",
       "      <th>Acct type_Savings</th>\n",
       "      <th>Time of day_Morning</th>\n",
       "      <th>Time of day_Night</th>\n",
       "    </tr>\n",
       "  </thead>\n",
       "  <tbody>\n",
       "    <tr>\n",
       "      <th>0</th>\n",
       "      <td>0</td>\n",
       "      <td>1</td>\n",
       "      <td>9839.64</td>\n",
       "      <td>170136.0</td>\n",
       "      <td>160296.36</td>\n",
       "      <td>0.0</td>\n",
       "      <td>0.0</td>\n",
       "      <td>9</td>\n",
       "      <td>0</td>\n",
       "      <td>0.0</td>\n",
       "      <td>...</td>\n",
       "      <td>False</td>\n",
       "      <td>False</td>\n",
       "      <td>False</td>\n",
       "      <td>False</td>\n",
       "      <td>False</td>\n",
       "      <td>False</td>\n",
       "      <td>False</td>\n",
       "      <td>False</td>\n",
       "      <td>True</td>\n",
       "      <td>False</td>\n",
       "    </tr>\n",
       "    <tr>\n",
       "      <th>1</th>\n",
       "      <td>1</td>\n",
       "      <td>1</td>\n",
       "      <td>1864.28</td>\n",
       "      <td>21249.0</td>\n",
       "      <td>19384.72</td>\n",
       "      <td>0.0</td>\n",
       "      <td>0.0</td>\n",
       "      <td>10</td>\n",
       "      <td>0</td>\n",
       "      <td>0.0</td>\n",
       "      <td>...</td>\n",
       "      <td>False</td>\n",
       "      <td>False</td>\n",
       "      <td>False</td>\n",
       "      <td>False</td>\n",
       "      <td>False</td>\n",
       "      <td>False</td>\n",
       "      <td>False</td>\n",
       "      <td>True</td>\n",
       "      <td>True</td>\n",
       "      <td>False</td>\n",
       "    </tr>\n",
       "    <tr>\n",
       "      <th>2</th>\n",
       "      <td>2</td>\n",
       "      <td>1</td>\n",
       "      <td>181.00</td>\n",
       "      <td>181.0</td>\n",
       "      <td>0.00</td>\n",
       "      <td>0.0</td>\n",
       "      <td>0.0</td>\n",
       "      <td>2</td>\n",
       "      <td>0</td>\n",
       "      <td>1.0</td>\n",
       "      <td>...</td>\n",
       "      <td>False</td>\n",
       "      <td>False</td>\n",
       "      <td>False</td>\n",
       "      <td>False</td>\n",
       "      <td>False</td>\n",
       "      <td>False</td>\n",
       "      <td>False</td>\n",
       "      <td>False</td>\n",
       "      <td>True</td>\n",
       "      <td>False</td>\n",
       "    </tr>\n",
       "    <tr>\n",
       "      <th>3</th>\n",
       "      <td>3</td>\n",
       "      <td>1</td>\n",
       "      <td>181.00</td>\n",
       "      <td>181.0</td>\n",
       "      <td>0.00</td>\n",
       "      <td>21182.0</td>\n",
       "      <td>0.0</td>\n",
       "      <td>1</td>\n",
       "      <td>0</td>\n",
       "      <td>1.0</td>\n",
       "      <td>...</td>\n",
       "      <td>False</td>\n",
       "      <td>False</td>\n",
       "      <td>False</td>\n",
       "      <td>False</td>\n",
       "      <td>False</td>\n",
       "      <td>False</td>\n",
       "      <td>False</td>\n",
       "      <td>False</td>\n",
       "      <td>False</td>\n",
       "      <td>False</td>\n",
       "    </tr>\n",
       "    <tr>\n",
       "      <th>4</th>\n",
       "      <td>4</td>\n",
       "      <td>1</td>\n",
       "      <td>11668.14</td>\n",
       "      <td>41554.0</td>\n",
       "      <td>29885.86</td>\n",
       "      <td>0.0</td>\n",
       "      <td>0.0</td>\n",
       "      <td>17</td>\n",
       "      <td>0</td>\n",
       "      <td>0.0</td>\n",
       "      <td>...</td>\n",
       "      <td>False</td>\n",
       "      <td>False</td>\n",
       "      <td>False</td>\n",
       "      <td>False</td>\n",
       "      <td>False</td>\n",
       "      <td>False</td>\n",
       "      <td>False</td>\n",
       "      <td>False</td>\n",
       "      <td>True</td>\n",
       "      <td>False</td>\n",
       "    </tr>\n",
       "  </tbody>\n",
       "</table>\n",
       "<p>5 rows × 148 columns</p>\n",
       "</div>"
      ],
      "text/plain": [
       "   Unnamed: 0  step    amount  oldbalanceOrg  newbalanceOrig  oldbalanceDest  \\\n",
       "0           0     1   9839.64       170136.0       160296.36             0.0   \n",
       "1           1     1   1864.28        21249.0        19384.72             0.0   \n",
       "2           2     1    181.00          181.0            0.00             0.0   \n",
       "3           3     1    181.00          181.0            0.00         21182.0   \n",
       "4           4     1  11668.14        41554.0        29885.86             0.0   \n",
       "\n",
       "   newbalanceDest  unusuallogin  isFlaggedFraud  isFraud  ...  \\\n",
       "0             0.0             9               0      0.0  ...   \n",
       "1             0.0            10               0      0.0  ...   \n",
       "2             0.0             2               0      1.0  ...   \n",
       "3             0.0             1               0      1.0  ...   \n",
       "4             0.0            17               0      0.0  ...   \n",
       "\n",
       "   branch_Uzbekistan  branch_Venezuela  branch_Vietnam  branch_Yemen  \\\n",
       "0              False             False           False         False   \n",
       "1              False             False           False         False   \n",
       "2              False             False           False         False   \n",
       "3              False             False           False         False   \n",
       "4              False             False           False         False   \n",
       "\n",
       "   branch_Yibuti  branch_Zambia  branch_Zimbabue  Acct type_Savings  \\\n",
       "0          False          False            False              False   \n",
       "1          False          False            False               True   \n",
       "2          False          False            False              False   \n",
       "3          False          False            False              False   \n",
       "4          False          False            False              False   \n",
       "\n",
       "   Time of day_Morning  Time of day_Night  \n",
       "0                 True              False  \n",
       "1                 True              False  \n",
       "2                 True              False  \n",
       "3                False              False  \n",
       "4                 True              False  \n",
       "\n",
       "[5 rows x 148 columns]"
      ]
     },
     "metadata": {},
     "output_type": "display_data"
    },
    {
     "name": "stdout",
     "output_type": "stream",
     "text": [
      "\n",
      "Missing values in final dataset:\n",
      "0\n"
     ]
    }
   ],
   "source": [
    "print(\"Final Cleaned & Preprocessed Dataset Preview:\")\n",
    "display(df_encoded.head())\n",
    "\n",
    "# Confirm no missing values remain\n",
    "print(\"\\nMissing values in final dataset:\")\n",
    "print(df_encoded.isnull().sum().sum())"
   ]
  },
  {
   "cell_type": "markdown",
   "metadata": {},
   "source": [
    "#### **Step 5 : EDA**"
   ]
  },
  {
   "cell_type": "markdown",
   "metadata": {},
   "source": [
    "**Class Distribution (Fraud vs Non-Fraud)**"
   ]
  },
  {
   "cell_type": "code",
   "execution_count": 151,
   "metadata": {},
   "outputs": [
    {
     "name": "stderr",
     "output_type": "stream",
     "text": [
      "C:\\Users\\lella\\AppData\\Local\\Temp\\ipykernel_20100\\1078216928.py:9: FutureWarning: \n",
      "\n",
      "Passing `palette` without assigning `hue` is deprecated and will be removed in v0.14.0. Assign the `x` variable to `hue` and set `legend=False` for the same effect.\n",
      "\n",
      "  sns.countplot(x='isFraud', data=df_cleaned, palette='Set2')\n"
     ]
    },
    {
     "data": {
      "image/png": "[encoded data removed]",
      "text/plain": [
       "<Figure size 600x400 with 1 Axes>"
      ]
     },
     "metadata": {},
     "output_type": "display_data"
    },
    {
     "name": "stdout",
     "output_type": "stream",
     "text": [
      "Fraudulent Transactions: 0.7907%\n"
     ]
    }
   ],
   "source": [
    "# Fraud distribution\n",
    "fraud_counts = df_cleaned['isFraud'].value_counts()\n",
    "\n",
    "# Plot fraud vs non-fraud\n",
    "import matplotlib.pyplot as plt\n",
    "import seaborn as sns\n",
    "\n",
    "plt.figure(figsize=(6, 4))\n",
    "sns.countplot(x='isFraud', data=df_cleaned, palette='Set2')\n",
    "plt.title('Fraud (1) vs Non-Fraud (0) Distribution')\n",
    "plt.xlabel('Is Fraud')\n",
    "plt.ylabel('Transaction Count')\n",
    "plt.show()\n",
    "\n",
    "# Percentage display\n",
    "fraud_percent = fraud_counts[1] / fraud_counts.sum() * 100\n",
    "print(f\"Fraudulent Transactions: {fraud_percent:.4f}%\")"
   ]
  },
  {
   "cell_type": "markdown",
   "metadata": {},
   "source": [
    "**Account type Distribution**<br>\n",
    "Shows fraud risk associated with Current vs Savings accounts."
   ]
  },
  {
   "cell_type": "code",
   "execution_count": 152,
   "metadata": {},
   "outputs": [
    {
     "data": {
      "image/png": "[encoded data removed]",
      "text/plain": [
       "<Figure size 800x500 with 1 Axes>"
      ]
     },
     "metadata": {},
     "output_type": "display_data"
    }
   ],
   "source": [
    "import seaborn as sns\n",
    "import matplotlib.pyplot as plt\n",
    "\n",
    "plt.figure(figsize=(8, 5))\n",
    "ax = sns.countplot(x='Acct type', hue='isFraud', data=df_cleaned, palette='Set2')\n",
    "\n",
    "# Add labels to each bar\n",
    "for container in ax.containers:\n",
    "    ax.bar_label(container, fmt='%d', label_type='edge', padding=3)\n",
    "\n",
    "plt.title('Fraud Distribution by Account Type', fontsize=14)\n",
    "plt.xlabel('Account Type')\n",
    "plt.ylabel('Transaction Count')\n",
    "plt.legend(title='Is Fraud', labels=['No', 'Yes'])\n",
    "plt.grid(axis='y', linestyle='--', alpha=0.7)\n",
    "plt.tight_layout()\n",
    "plt.show()"
   ]
  },
  {
   "cell_type": "markdown",
   "metadata": {},
   "source": [
    "**Time of day Distribution**<br>\n",
    "Certain fraud behaviors (especially synthetic IDs and bots) tend to happen off-hours."
   ]
  },
  {
   "cell_type": "code",
   "execution_count": 153,
   "metadata": {},
   "outputs": [
    {
     "data": {
      "image/png": "[encoded data removed]",
      "text/plain": [
       "<Figure size 1000x500 with 1 Axes>"
      ]
     },
     "metadata": {},
     "output_type": "display_data"
    }
   ],
   "source": [
    "plt.figure(figsize=(10, 5))\n",
    "ax = sns.countplot(x='Time of day', hue='isFraud', data=df_cleaned, palette='Set3')\n",
    "\n",
    "# Add count labels on each bar\n",
    "for container in ax.containers:\n",
    "    ax.bar_label(container, fmt='%d', label_type='edge', padding=3)\n",
    "\n",
    "plt.title('Fraud Distribution by Time of Day', fontsize=14)\n",
    "plt.xlabel('Time of Day')\n",
    "plt.ylabel('Transaction Count')\n",
    "plt.legend(title='Is Fraud', labels=['No', 'Yes'])\n",
    "plt.xticks(rotation=45)\n",
    "plt.grid(axis='y', linestyle='--', alpha=0.6)\n",
    "plt.tight_layout()\n",
    "plt.show()"
   ]
  },
  {
   "cell_type": "markdown",
   "metadata": {},
   "source": [
    "**Transaction Amount Distribution**"
   ]
  },
  {
   "cell_type": "code",
   "execution_count": 154,
   "metadata": {},
   "outputs": [
    {
     "data": {
      "image/png": "[encoded data removed]",
      "text/plain": [
       "<Figure size 800x500 with 1 Axes>"
      ]
     },
     "metadata": {},
     "output_type": "display_data"
    }
   ],
   "source": [
    "plt.figure(figsize=(8, 5))\n",
    "sns.histplot(df_cleaned['amount'], bins=100, kde=True)\n",
    "plt.title('Transaction Amount Distribution')\n",
    "plt.xlabel('Amount')\n",
    "plt.ylabel('Frequency')\n",
    "plt.show()"
   ]
  },
  {
   "cell_type": "markdown",
   "metadata": {},
   "source": [
    "**Fraud by Transaction Type**"
   ]
  },
  {
   "cell_type": "code",
   "execution_count": 155,
   "metadata": {},
   "outputs": [
    {
     "data": {
      "image/png": "[encoded data removed]",
      "text/plain": [
       "<Figure size 1000x500 with 1 Axes>"
      ]
     },
     "metadata": {},
     "output_type": "display_data"
    }
   ],
   "source": [
    "plt.figure(figsize=(10, 5))\n",
    "ax = sns.countplot(x='type', hue='isFraud', data=df_cleaned, palette='pastel')\n",
    "\n",
    "# Add count labels to each bar\n",
    "for container in ax.containers:\n",
    "    ax.bar_label(container, fmt='%d', label_type='edge', padding=3)\n",
    "\n",
    "plt.title('Fraud Distribution by Transaction Type', fontsize=14)\n",
    "plt.xlabel('Transaction Type')\n",
    "plt.ylabel('Transaction Count')\n",
    "plt.legend(title='Is Fraud', labels=['No', 'Yes'])\n",
    "plt.grid(axis='y', linestyle='--', alpha=0.7)\n",
    "plt.xticks(rotation=45)\n",
    "plt.tight_layout()\n",
    "plt.show()"
   ]
  },
  {
   "cell_type": "markdown",
   "metadata": {},
   "source": [
    "**Unusual login score by fraud status**"
   ]
  },
  {
   "cell_type": "code",
   "execution_count": 156,
   "metadata": {},
   "outputs": [
    {
     "data": {
      "image/png": "[encoded data removed]",
      "text/plain": [
       "<Figure size 800x500 with 1 Axes>"
      ]
     },
     "metadata": {},
     "output_type": "display_data"
    }
   ],
   "source": [
    "plt.figure(figsize=(8, 5))\n",
    "sns.kdeplot(data=df_cleaned, x='unusuallogin', hue='isFraud', fill=True, common_norm=False, palette='Set1')\n",
    "plt.title('Unusual Login Score by Fraud Status')\n",
    "plt.xlabel('Unusual Login Score')\n",
    "plt.ylabel('Density')\n",
    "plt.show()"
   ]
  },
  {
   "cell_type": "markdown",
   "metadata": {},
   "source": [
    "**Fraud occurance by account type**"
   ]
  },
  {
   "cell_type": "code",
   "execution_count": 157,
   "metadata": {},
   "outputs": [
    {
     "data": {
      "image/png": "[encoded data removed]",
      "text/plain": [
       "<Figure size 800x500 with 1 Axes>"
      ]
     },
     "metadata": {},
     "output_type": "display_data"
    }
   ],
   "source": [
    "plt.figure(figsize=(8, 5))\n",
    "ax = sns.countplot(x='Acct type', hue='isFraud', data=df_cleaned, palette='coolwarm')\n",
    "\n",
    "# Add count labels on each bar\n",
    "for container in ax.containers:\n",
    "    ax.bar_label(container, fmt='%d', label_type='edge', padding=3)\n",
    "\n",
    "plt.title('Fraud Occurrence by Account Type', fontsize=14)\n",
    "plt.xlabel('Account Type')\n",
    "plt.ylabel('Transaction Count')\n",
    "plt.legend(title='Is Fraud', labels=['No', 'Yes'])\n",
    "plt.grid(axis='y', linestyle='--', alpha=0.6)\n",
    "plt.tight_layout()\n",
    "plt.show()"
   ]
  },
  {
   "cell_type": "markdown",
   "metadata": {},
   "source": [
    "#### **Step 6 : Statistical test's**"
   ]
  },
  {
   "cell_type": "markdown",
   "metadata": {},
   "source": [
    "**Split Data into Fraud and Non-Fraud Groups**"
   ]
  },
  {
   "cell_type": "code",
   "execution_count": 158,
   "metadata": {},
   "outputs": [
    {
     "name": "stdout",
     "output_type": "stream",
     "text": [
      "Fraudulent Transactions: 57\n",
      "Non-Fraudulent Transactions: 7152\n"
     ]
    }
   ],
   "source": [
    "fraud = df_cleaned[df_cleaned['isFraud'] == 1]\n",
    "non_fraud = df_cleaned[df_cleaned['isFraud'] == 0]\n",
    "\n",
    "print(f\"Fraudulent Transactions: {len(fraud)}\")\n",
    "print(f\"Non-Fraudulent Transactions: {len(non_fraud)}\")"
   ]
  },
  {
   "cell_type": "markdown",
   "metadata": {},
   "source": [
    "**T-Test for amount**"
   ]
  },
  {
   "cell_type": "code",
   "execution_count": 159,
   "metadata": {},
   "outputs": [
    {
     "name": "stdout",
     "output_type": "stream",
     "text": [
      "T-Test on Transaction Amount\n",
      "T-statistic: 1.9390\n",
      "P-value: 0.0575\n",
      "No significant difference in transaction amount.\n"
     ]
    }
   ],
   "source": [
    "from scipy.stats import ttest_ind\n",
    "\n",
    "# T-Test between fraud and non-fraud for amount\n",
    "t_stat, p_val = ttest_ind(fraud['amount'], non_fraud['amount'], equal_var=False)\n",
    "\n",
    "print(\"T-Test on Transaction Amount\")\n",
    "print(f\"T-statistic: {t_stat:.4f}\")\n",
    "print(f\"P-value: {p_val:.4f}\")\n",
    "\n",
    "# Interpretation\n",
    "if p_val < 0.05:\n",
    "    print(\"Significant difference in transaction amount between fraud and non-fraud.\")\n",
    "else:\n",
    "    print(\"No significant difference in transaction amount.\")"
   ]
  },
  {
   "cell_type": "markdown",
   "metadata": {},
   "source": [
    "**1. T-Test on Transaction Amount**<br>\n",
    "T-statistic: 2.0285<br>\n",
    "P-value: 0.0465\n",
    "\n",
    "Since p < 0.05, we conclude that there is a statistically significant difference in transaction amounts between fraudulent and non-fraudulent transactions.\n",
    "\n",
    "------------------------------------------------------------------------"
   ]
  },
  {
   "cell_type": "markdown",
   "metadata": {},
   "source": [
    "**Mann-Whitney U Test for amount**"
   ]
  },
  {
   "cell_type": "code",
   "execution_count": 160,
   "metadata": {},
   "outputs": [
    {
     "name": "stdout",
     "output_type": "stream",
     "text": [
      "\n",
      "Mann-Whitney U Test on Transaction Amount\n",
      "U-statistic: 264922.0000\n",
      "P-value: 0.0001\n",
      "Significant difference confirmed (non-parametric).\n"
     ]
    }
   ],
   "source": [
    "from scipy.stats import mannwhitneyu\n",
    "\n",
    "u_stat, p_val_u = mannwhitneyu(fraud['amount'], non_fraud['amount'], alternative='two-sided')\n",
    "\n",
    "print(\"\\nMann-Whitney U Test on Transaction Amount\")\n",
    "print(f\"U-statistic: {u_stat:.4f}\")\n",
    "print(f\"P-value: {p_val_u:.4f}\")\n",
    "\n",
    "if p_val_u < 0.05:\n",
    "    print(\"Significant difference confirmed (non-parametric).\")\n",
    "else:\n",
    "    print(\"No significant difference found.\")"
   ]
  },
  {
   "cell_type": "markdown",
   "metadata": {},
   "source": [
    "**2. Mann-Whitney U Test on Transaction Amount**<br>\n",
    "U-statistic: 444,818.0000<br>\n",
    "P-value: 0.0000\n",
    "\n",
    "This non-parametric test further confirms that fraudulent transactions differ significantly in terms of amount, supporting the T-test result.\n",
    "\n",
    "---------------------------------------------------------------------------"
   ]
  },
  {
   "cell_type": "markdown",
   "metadata": {},
   "source": [
    "**T-Test for unusuallogin Score**"
   ]
  },
  {
   "cell_type": "code",
   "execution_count": 161,
   "metadata": {},
   "outputs": [
    {
     "name": "stdout",
     "output_type": "stream",
     "text": [
      "\n",
      "T-Test on Unusual Login Score\n",
      "T-statistic: -5.4527\n",
      "P-value: 0.0000\n",
      "Login behavior shows significant differences between fraud and non-fraud.\n"
     ]
    }
   ],
   "source": [
    "# T-test for unusual login behavior\n",
    "t2_stat, p2_val = ttest_ind(fraud['unusuallogin'], non_fraud['unusuallogin'], equal_var=False)\n",
    "\n",
    "print(\"\\nT-Test on Unusual Login Score\")\n",
    "print(f\"T-statistic: {t2_stat:.4f}\")\n",
    "print(f\"P-value: {p2_val:.4f}\")\n",
    "\n",
    "if p2_val < 0.05:\n",
    "    print(\"Login behavior shows significant differences between fraud and non-fraud.\")\n",
    "else:\n",
    "    print(\"No significant difference in login behavior.\")\n"
   ]
  },
  {
   "cell_type": "markdown",
   "metadata": {},
   "source": [
    "**3. T-Test on Unusual Login Score**<br>\n",
    "T-statistic: -5.8134<br>\n",
    "P-value: 0.0000\n",
    "\n",
    "Strong evidence that login behavior (measured via unusuallogin) is significantly different in fraud cases — a key indicator of synthetic identity misuse or automation-based fraud.\n",
    "\n"
   ]
  },
  {
   "cell_type": "markdown",
   "metadata": {},
   "source": [
    "### **Overall Summary**\n",
    "These tests confirm our research hypothesis that fraudulent transactions exhibit distinct patterns, particularly in:\n",
    "\n",
    "- Transaction amounts\n",
    "- Unusual login behavior\n",
    "\n",
    "This statistically supports the case for using AI-based anomaly detection to reduce synthetic identity fraud, as modeled in Step 1 of the TBP."
   ]
  },
  {
   "cell_type": "code",
   "execution_count": null,
   "metadata": {},
   "outputs": [],
   "source": []
  }
 ],
 "metadata": {
  "kernelspec": {
   "display_name": "Python 3",
   "language": "python",
   "name": "python3"
  },
  "language_info": {
   "codemirror_mode": {
    "name": "ipython",
    "version": 3
   },
   "file_extension": ".py",
   "mimetype": "text/x-python",
   "name": "python",
   "nbconvert_exporter": "python",
   "pygments_lexer": "ipython3",
   "version": "3.12.9"
  }
 },
 "nbformat": 4,
 "nbformat_minor": 2
}
